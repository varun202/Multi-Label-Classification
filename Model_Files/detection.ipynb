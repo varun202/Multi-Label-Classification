{
  "nbformat": 4,
  "nbformat_minor": 0,
  "metadata": {
    "colab": {
      "name": "detection.ipynb",
      "provenance": [],
      "collapsed_sections": []
    },
    "kernelspec": {
      "name": "python3",
      "display_name": "Python 3"
    },
    "language_info": {
      "name": "python"
    }
  },
  "cells": [
    {
      "cell_type": "markdown",
      "source": [
        "##**Detect the Top 10 fashion objects**"
      ],
      "metadata": {
        "id": "czJ-mcqTg_M3"
      }
    },
    {
      "cell_type": "code",
      "metadata": {
        "colab": {
          "base_uri": "https://localhost:8080/"
        },
        "id": "mDJ_tJtucgYW",
        "outputId": "3fd0f813-f0e4-41f8-bfb2-6bb1f86bac67"
      },
      "source": [
        "from google.colab import drive\n",
        "drive.mount('/content/drive')"
      ],
      "execution_count": 1,
      "outputs": [
        {
          "output_type": "stream",
          "name": "stdout",
          "text": [
            "Mounted at /content/drive\n"
          ]
        }
      ]
    },
    {
      "cell_type": "code",
      "source": [
        "!unzip \"/content/drive/MyDrive/ColabNotebooks/Dataset/RMgx_data/Data.zip\" -d \"/content/\" "
      ],
      "metadata": {
        "id": "rcCCIeanFWiH"
      },
      "execution_count": null,
      "outputs": []
    },
    {
      "cell_type": "markdown",
      "source": [
        "##**Creating a directory of randomly picked 100 images from test data set**"
      ],
      "metadata": {
        "id": "Qb7rVl-El1qE"
      }
    },
    {
      "cell_type": "code",
      "source": [
        "!mkdir detect\n",
        "!mkdir detect/test"
      ],
      "metadata": {
        "id": "8E3Xjhq6pFth"
      },
      "execution_count": 3,
      "outputs": []
    },
    {
      "cell_type": "code",
      "source": [
        "import glob\n",
        "import shutil\n",
        "\n",
        "n = 0\n",
        "files=[]\n",
        "list_files = glob.glob('/content/Data/test/*')\n",
        "for i in list_files:\n",
        "  if n<1000:\n",
        "    shutil.copy(i, '/content/detect/test')\n",
        "  else:break\n",
        "  n+=1"
      ],
      "metadata": {
        "id": "HRrUPRSXj6W1"
      },
      "execution_count": 4,
      "outputs": []
    },
    {
      "cell_type": "markdown",
      "source": [
        "##**Loading the pre-trained VGG-19 model**"
      ],
      "metadata": {
        "id": "-LztmNczl56Y"
      }
    },
    {
      "cell_type": "code",
      "source": [
        "from keras.applications.vgg19 import VGG19\n",
        "model = VGG19()\n",
        "model.summary()"
      ],
      "metadata": {
        "id": "Tuvq1Dx-0ZLU",
        "colab": {
          "base_uri": "https://localhost:8080/"
        },
        "outputId": "0b38aded-f4d4-4b20-9004-bab4b6e5e003"
      },
      "execution_count": 5,
      "outputs": [
        {
          "output_type": "stream",
          "name": "stdout",
          "text": [
            "Downloading data from https://storage.googleapis.com/tensorflow/keras-applications/vgg19/vgg19_weights_tf_dim_ordering_tf_kernels.h5\n",
            "574717952/574710816 [==============================] - 4s 0us/step\n",
            "574726144/574710816 [==============================] - 4s 0us/step\n",
            "Model: \"vgg19\"\n",
            "_________________________________________________________________\n",
            " Layer (type)                Output Shape              Param #   \n",
            "=================================================================\n",
            " input_1 (InputLayer)        [(None, 224, 224, 3)]     0         \n",
            "                                                                 \n",
            " block1_conv1 (Conv2D)       (None, 224, 224, 64)      1792      \n",
            "                                                                 \n",
            " block1_conv2 (Conv2D)       (None, 224, 224, 64)      36928     \n",
            "                                                                 \n",
            " block1_pool (MaxPooling2D)  (None, 112, 112, 64)      0         \n",
            "                                                                 \n",
            " block2_conv1 (Conv2D)       (None, 112, 112, 128)     73856     \n",
            "                                                                 \n",
            " block2_conv2 (Conv2D)       (None, 112, 112, 128)     147584    \n",
            "                                                                 \n",
            " block2_pool (MaxPooling2D)  (None, 56, 56, 128)       0         \n",
            "                                                                 \n",
            " block3_conv1 (Conv2D)       (None, 56, 56, 256)       295168    \n",
            "                                                                 \n",
            " block3_conv2 (Conv2D)       (None, 56, 56, 256)       590080    \n",
            "                                                                 \n",
            " block3_conv3 (Conv2D)       (None, 56, 56, 256)       590080    \n",
            "                                                                 \n",
            " block3_conv4 (Conv2D)       (None, 56, 56, 256)       590080    \n",
            "                                                                 \n",
            " block3_pool (MaxPooling2D)  (None, 28, 28, 256)       0         \n",
            "                                                                 \n",
            " block4_conv1 (Conv2D)       (None, 28, 28, 512)       1180160   \n",
            "                                                                 \n",
            " block4_conv2 (Conv2D)       (None, 28, 28, 512)       2359808   \n",
            "                                                                 \n",
            " block4_conv3 (Conv2D)       (None, 28, 28, 512)       2359808   \n",
            "                                                                 \n",
            " block4_conv4 (Conv2D)       (None, 28, 28, 512)       2359808   \n",
            "                                                                 \n",
            " block4_pool (MaxPooling2D)  (None, 14, 14, 512)       0         \n",
            "                                                                 \n",
            " block5_conv1 (Conv2D)       (None, 14, 14, 512)       2359808   \n",
            "                                                                 \n",
            " block5_conv2 (Conv2D)       (None, 14, 14, 512)       2359808   \n",
            "                                                                 \n",
            " block5_conv3 (Conv2D)       (None, 14, 14, 512)       2359808   \n",
            "                                                                 \n",
            " block5_conv4 (Conv2D)       (None, 14, 14, 512)       2359808   \n",
            "                                                                 \n",
            " block5_pool (MaxPooling2D)  (None, 7, 7, 512)         0         \n",
            "                                                                 \n",
            " flatten (Flatten)           (None, 25088)             0         \n",
            "                                                                 \n",
            " fc1 (Dense)                 (None, 4096)              102764544 \n",
            "                                                                 \n",
            " fc2 (Dense)                 (None, 4096)              16781312  \n",
            "                                                                 \n",
            " predictions (Dense)         (None, 1000)              4097000   \n",
            "                                                                 \n",
            "=================================================================\n",
            "Total params: 143,667,240\n",
            "Trainable params: 143,667,240\n",
            "Non-trainable params: 0\n",
            "_________________________________________________________________\n"
          ]
        }
      ]
    },
    {
      "cell_type": "code",
      "source": [
        "#converting the image filename into absolute paths\n",
        "import os\n",
        "images = os.listdir(\"/content/detect/test\") \n",
        "file_names = []\n",
        "for i in images:\n",
        "  file_names+= ['/content/detect/test/'+i]\n",
        "print(file_names)"
      ],
      "metadata": {
        "colab": {
          "base_uri": "https://localhost:8080/"
        },
        "id": "x1yvfPF006Hn",
        "outputId": "f53ac118-0704-45ad-d099-c34c2e11c1e2"
      },
      "execution_count": 6,
      "outputs": [
        {
          "output_type": "stream",
          "name": "stdout",
          "text": [
            "['/content/detect/test/4743.jpg', '/content/detect/test/3670.jpg', '/content/detect/test/8499.jpg', '/content/detect/test/7932.jpg', '/content/detect/test/7637.jpg', '/content/detect/test/9632.jpg', '/content/detect/test/8096.jpg', '/content/detect/test/4604.jpg', '/content/detect/test/3530.jpg', '/content/detect/test/4874.jpg', '/content/detect/test/4808.jpg', '/content/detect/test/6328.jpg', '/content/detect/test/6264.jpg', '/content/detect/test/6070.jpg', '/content/detect/test/8105.jpg', '/content/detect/test/7327.jpg', '/content/detect/test/5696.jpg', '/content/detect/test/6858.jpg', '/content/detect/test/6233.jpg', '/content/detect/test/6164.jpg', '/content/detect/test/4475.jpg', '/content/detect/test/5402.jpg', '/content/detect/test/7062.jpg', '/content/detect/test/8209.jpg', '/content/detect/test/4367.jpg', '/content/detect/test/8796.jpg', '/content/detect/test/3695.jpg', '/content/detect/test/5625.jpg', '/content/detect/test/6320.jpg', '/content/detect/test/8463.jpg', '/content/detect/test/4631.jpg', '/content/detect/test/5858.jpg', '/content/detect/test/3251.jpg', '/content/detect/test/3812.jpg', '/content/detect/test/4739.jpg', '/content/detect/test/9178.jpg', '/content/detect/test/4443.jpg', '/content/detect/test/3440.jpg', '/content/detect/test/8508.jpg', '/content/detect/test/5450.jpg', '/content/detect/test/4274.jpg', '/content/detect/test/8411.jpg', '/content/detect/test/4018.jpg', '/content/detect/test/8430.jpg', '/content/detect/test/4460.jpg', '/content/detect/test/9633.jpg', '/content/detect/test/9505.jpg', '/content/detect/test/8886.jpg', '/content/detect/test/5896.jpg', '/content/detect/test/6179.jpg', '/content/detect/test/4053.jpg', '/content/detect/test/9668.jpg', '/content/detect/test/3908.jpg', '/content/detect/test/5204.jpg', '/content/detect/test/6846.jpg', '/content/detect/test/7071.jpg', '/content/detect/test/4230.jpg', '/content/detect/test/7099.jpg', '/content/detect/test/8828.jpg', '/content/detect/test/4811.jpg', '/content/detect/test/6517.jpg', '/content/detect/test/4753.jpg', '/content/detect/test/6582.jpg', '/content/detect/test/8073.jpg', '/content/detect/test/9105.jpg', '/content/detect/test/8683.jpg', '/content/detect/test/7923.jpg', '/content/detect/test/3326.jpg', '/content/detect/test/5429.jpg', '/content/detect/test/4492.jpg', '/content/detect/test/3728.jpg', '/content/detect/test/4813.jpg', '/content/detect/test/5340.jpg', '/content/detect/test/9851.jpg', '/content/detect/test/6994.jpg', '/content/detect/test/7472.jpg', '/content/detect/test/6685.jpg', '/content/detect/test/4888.jpg', '/content/detect/test/5922.jpg', '/content/detect/test/5661.jpg', '/content/detect/test/7815.jpg', '/content/detect/test/3048.jpg', '/content/detect/test/4479.jpg', '/content/detect/test/5288.jpg', '/content/detect/test/7962.jpg', '/content/detect/test/3724.jpg', '/content/detect/test/3522.jpg', '/content/detect/test/4594.jpg', '/content/detect/test/3029.jpg', '/content/detect/test/9723.jpg', '/content/detect/test/6538.jpg', '/content/detect/test/8224.jpg', '/content/detect/test/4048.jpg', '/content/detect/test/5227.jpg', '/content/detect/test/9126.jpg', '/content/detect/test/9536.jpg', '/content/detect/test/5185.jpg', '/content/detect/test/8098.jpg', '/content/detect/test/6304.jpg', '/content/detect/test/7121.jpg', '/content/detect/test/8005.jpg', '/content/detect/test/7864.jpg', '/content/detect/test/3096.jpg', '/content/detect/test/4761.jpg', '/content/detect/test/6546.jpg', '/content/detect/test/9056.jpg', '/content/detect/test/9020.jpg', '/content/detect/test/8917.jpg', '/content/detect/test/7084.jpg', '/content/detect/test/4353.jpg', '/content/detect/test/8103.jpg', '/content/detect/test/4363.jpg', '/content/detect/test/9605.jpg', '/content/detect/test/6680.jpg', '/content/detect/test/5018.jpg', '/content/detect/test/6413.jpg', '/content/detect/test/4580.jpg', '/content/detect/test/9865.jpg', '/content/detect/test/8479.jpg', '/content/detect/test/5465.jpg', '/content/detect/test/3322.jpg', '/content/detect/test/5775.jpg', '/content/detect/test/9398.jpg', '/content/detect/test/3155.jpg', '/content/detect/test/6576.jpg', '/content/detect/test/3696.jpg', '/content/detect/test/6549.jpg', '/content/detect/test/5247.jpg', '/content/detect/test/7059.jpg', '/content/detect/test/8250.jpg', '/content/detect/test/6840.jpg', '/content/detect/test/5825.jpg', '/content/detect/test/5530.jpg', '/content/detect/test/5971.jpg', '/content/detect/test/5762.jpg', '/content/detect/test/8047.jpg', '/content/detect/test/5771.jpg', '/content/detect/test/5321.jpg', '/content/detect/test/6675.jpg', '/content/detect/test/6849.jpg', '/content/detect/test/9390.jpg', '/content/detect/test/5414.jpg', '/content/detect/test/7153.jpg', '/content/detect/test/5897.jpg', '/content/detect/test/6851.jpg', '/content/detect/test/4463.jpg', '/content/detect/test/8286.jpg', '/content/detect/test/6136.jpg', '/content/detect/test/8851.jpg', '/content/detect/test/3997.jpg', '/content/detect/test/5542.jpg', '/content/detect/test/3330.jpg', '/content/detect/test/6892.jpg', '/content/detect/test/3368.jpg', '/content/detect/test/5304.jpg', '/content/detect/test/7630.jpg', '/content/detect/test/5419.jpg', '/content/detect/test/7769.jpg', '/content/detect/test/9236.jpg', '/content/detect/test/5445.jpg', '/content/detect/test/4978.jpg', '/content/detect/test/3278.jpg', '/content/detect/test/7493.jpg', '/content/detect/test/3842.jpg', '/content/detect/test/6151.jpg', '/content/detect/test/6228.jpg', '/content/detect/test/4063.jpg', '/content/detect/test/5251.jpg', '/content/detect/test/9460.jpg', '/content/detect/test/7354.jpg', '/content/detect/test/4130.jpg', '/content/detect/test/5699.jpg', '/content/detect/test/9031.jpg', '/content/detect/test/8863.jpg', '/content/detect/test/9487.jpg', '/content/detect/test/7556.jpg', '/content/detect/test/7840.jpg', '/content/detect/test/3547.jpg', '/content/detect/test/6735.jpg', '/content/detect/test/8034.jpg', '/content/detect/test/7641.jpg', '/content/detect/test/5963.jpg', '/content/detect/test/8169.jpg', '/content/detect/test/9238.jpg', '/content/detect/test/4628.jpg', '/content/detect/test/7929.jpg', '/content/detect/test/7620.jpg', '/content/detect/test/6483.jpg', '/content/detect/test/6993.jpg', '/content/detect/test/6013.jpg', '/content/detect/test/6687.jpg', '/content/detect/test/7035.jpg', '/content/detect/test/8466.jpg', '/content/detect/test/6842.jpg', '/content/detect/test/7156.jpg', '/content/detect/test/3818.jpg', '/content/detect/test/3515.jpg', '/content/detect/test/9470.jpg', '/content/detect/test/3782.jpg', '/content/detect/test/4716.jpg', '/content/detect/test/4206.jpg', '/content/detect/test/4233.jpg', '/content/detect/test/5269.jpg', '/content/detect/test/4957.jpg', '/content/detect/test/8983.jpg', '/content/detect/test/9646.jpg', '/content/detect/test/3611.jpg', '/content/detect/test/6308.jpg', '/content/detect/test/4792.jpg', '/content/detect/test/7182.jpg', '/content/detect/test/5948.jpg', '/content/detect/test/5195.jpg', '/content/detect/test/8860.jpg', '/content/detect/test/8593.jpg', '/content/detect/test/3933.jpg', '/content/detect/test/6424.jpg', '/content/detect/test/4346.jpg', '/content/detect/test/6124.jpg', '/content/detect/test/9135.jpg', '/content/detect/test/5038.jpg', '/content/detect/test/8019.jpg', '/content/detect/test/5333.jpg', '/content/detect/test/9337.jpg', '/content/detect/test/4567.jpg', '/content/detect/test/6691.jpg', '/content/detect/test/5683.jpg', '/content/detect/test/3544.jpg', '/content/detect/test/9513.jpg', '/content/detect/test/3836.jpg', '/content/detect/test/8679.jpg', '/content/detect/test/6370.jpg', '/content/detect/test/6020.jpg', '/content/detect/test/7680.jpg', '/content/detect/test/3986.jpg', '/content/detect/test/3453.jpg', '/content/detect/test/6667.jpg', '/content/detect/test/9262.jpg', '/content/detect/test/3145.jpg', '/content/detect/test/3028.jpg', '/content/detect/test/7032.jpg', '/content/detect/test/4686.jpg', '/content/detect/test/5503.jpg', '/content/detect/test/6676.jpg', '/content/detect/test/4793.jpg', '/content/detect/test/4768.jpg', '/content/detect/test/9482.jpg', '/content/detect/test/7788.jpg', '/content/detect/test/8244.jpg', '/content/detect/test/9418.jpg', '/content/detect/test/3482.jpg', '/content/detect/test/4222.jpg', '/content/detect/test/3087.jpg', '/content/detect/test/3182.jpg', '/content/detect/test/7763.jpg', '/content/detect/test/3291.jpg', '/content/detect/test/3979.jpg', '/content/detect/test/7814.jpg', '/content/detect/test/7441.jpg', '/content/detect/test/5880.jpg', '/content/detect/test/7203.jpg', '/content/detect/test/4748.jpg', '/content/detect/test/6298.jpg', '/content/detect/test/6096.jpg', '/content/detect/test/8583.jpg', '/content/detect/test/6823.jpg', '/content/detect/test/9041.jpg', '/content/detect/test/6603.jpg', '/content/detect/test/8184.jpg', '/content/detect/test/8118.jpg', '/content/detect/test/5140.jpg', '/content/detect/test/4307.jpg', '/content/detect/test/4825.jpg', '/content/detect/test/6214.jpg', '/content/detect/test/8331.jpg', '/content/detect/test/9179.jpg', '/content/detect/test/9628.jpg', '/content/detect/test/6674.jpg', '/content/detect/test/5164.jpg', '/content/detect/test/5379.jpg', '/content/detect/test/8790.jpg', '/content/detect/test/7353.jpg', '/content/detect/test/7459.jpg', '/content/detect/test/8491.jpg', '/content/detect/test/8057.jpg', '/content/detect/test/9846.jpg', '/content/detect/test/9325.jpg', '/content/detect/test/4912.jpg', '/content/detect/test/9177.jpg', '/content/detect/test/9503.jpg', '/content/detect/test/5346.jpg', '/content/detect/test/3905.jpg', '/content/detect/test/5965.jpg', '/content/detect/test/5202.jpg', '/content/detect/test/9154.jpg', '/content/detect/test/8746.jpg', '/content/detect/test/7372.jpg', '/content/detect/test/6930.jpg', '/content/detect/test/7026.jpg', '/content/detect/test/3224.jpg', '/content/detect/test/7445.jpg', '/content/detect/test/7238.jpg', '/content/detect/test/7204.jpg', '/content/detect/test/8146.jpg', '/content/detect/test/8262.jpg', '/content/detect/test/4508.jpg', '/content/detect/test/8227.jpg', '/content/detect/test/5730.jpg', '/content/detect/test/8313.jpg', '/content/detect/test/9024.jpg', '/content/detect/test/7852.jpg', '/content/detect/test/9282.jpg', '/content/detect/test/6325.jpg', '/content/detect/test/8947.jpg', '/content/detect/test/6061.jpg', '/content/detect/test/5537.jpg', '/content/detect/test/4944.jpg', '/content/detect/test/3653.jpg', '/content/detect/test/3555.jpg', '/content/detect/test/5285.jpg', '/content/detect/test/9530.jpg', '/content/detect/test/3625.jpg', '/content/detect/test/6457.jpg', '/content/detect/test/7596.jpg', '/content/detect/test/9568.jpg', '/content/detect/test/3183.jpg', '/content/detect/test/9005.jpg', '/content/detect/test/3925.jpg', '/content/detect/test/7515.jpg', '/content/detect/test/9838.jpg', '/content/detect/test/3448.jpg', '/content/detect/test/6425.jpg', '/content/detect/test/8747.jpg', '/content/detect/test/6117.jpg', '/content/detect/test/7564.jpg', '/content/detect/test/8703.jpg', '/content/detect/test/8962.jpg', '/content/detect/test/7197.jpg', '/content/detect/test/7629.jpg', '/content/detect/test/3260.jpg', '/content/detect/test/8685.jpg', '/content/detect/test/3213.jpg', '/content/detect/test/6981.jpg', '/content/detect/test/9089.jpg', '/content/detect/test/4759.jpg', '/content/detect/test/6597.jpg', '/content/detect/test/5544.jpg', '/content/detect/test/6409.jpg', '/content/detect/test/3739.jpg', '/content/detect/test/5216.jpg', '/content/detect/test/7790.jpg', '/content/detect/test/9834.jpg', '/content/detect/test/9541.jpg', '/content/detect/test/3189.jpg', '/content/detect/test/7067.jpg', '/content/detect/test/4379.jpg', '/content/detect/test/8644.jpg', '/content/detect/test/5452.jpg', '/content/detect/test/8455.jpg', '/content/detect/test/8039.jpg', '/content/detect/test/8191.jpg', '/content/detect/test/3865.jpg', '/content/detect/test/3272.jpg', '/content/detect/test/9744.jpg', '/content/detect/test/3994.jpg', '/content/detect/test/7217.jpg', '/content/detect/test/9751.jpg', '/content/detect/test/7817.jpg', '/content/detect/test/6776.jpg', '/content/detect/test/6793.jpg', '/content/detect/test/6900.jpg', '/content/detect/test/7497.jpg', '/content/detect/test/6093.jpg', '/content/detect/test/7561.jpg', '/content/detect/test/9463.jpg', '/content/detect/test/9491.jpg', '/content/detect/test/3239.jpg', '/content/detect/test/3697.jpg', '/content/detect/test/5849.jpg', '/content/detect/test/3366.jpg', '/content/detect/test/3372.jpg', '/content/detect/test/5209.jpg', '/content/detect/test/3716.jpg', '/content/detect/test/3872.jpg', '/content/detect/test/3003.jpg', '/content/detect/test/7849.jpg', '/content/detect/test/9162.jpg', '/content/detect/test/4873.jpg', '/content/detect/test/5306.jpg', '/content/detect/test/3623.jpg', '/content/detect/test/6128.jpg', '/content/detect/test/8854.jpg', '/content/detect/test/9557.jpg', '/content/detect/test/3339.jpg', '/content/detect/test/9356.jpg', '/content/detect/test/5352.jpg', '/content/detect/test/3381.jpg', '/content/detect/test/9704.jpg', '/content/detect/test/3486.jpg', '/content/detect/test/3112.jpg', '/content/detect/test/4231.jpg', '/content/detect/test/8843.jpg', '/content/detect/test/8799.jpg', '/content/detect/test/7079.jpg', '/content/detect/test/4440.jpg', '/content/detect/test/3942.jpg', '/content/detect/test/8328.jpg', '/content/detect/test/7229.jpg', '/content/detect/test/5788.jpg', '/content/detect/test/5054.jpg', '/content/detect/test/3218.jpg', '/content/detect/test/6344.jpg', '/content/detect/test/3781.jpg', '/content/detect/test/3027.jpg', '/content/detect/test/7575.jpg', '/content/detect/test/3191.jpg', '/content/detect/test/9015.jpg', '/content/detect/test/5256.jpg', '/content/detect/test/7128.jpg', '/content/detect/test/8443.jpg', '/content/detect/test/3847.jpg', '/content/detect/test/7725.jpg', '/content/detect/test/5446.jpg', '/content/detect/test/4469.jpg', '/content/detect/test/6368.jpg', '/content/detect/test/3971.jpg', '/content/detect/test/8477.jpg', '/content/detect/test/9572.jpg', '/content/detect/test/3240.jpg', '/content/detect/test/6082.jpg', '/content/detect/test/5391.jpg', '/content/detect/test/7689.jpg', '/content/detect/test/3178.jpg', '/content/detect/test/8538.jpg', '/content/detect/test/9412.jpg', '/content/detect/test/8815.jpg', '/content/detect/test/5396.jpg', '/content/detect/test/4108.jpg', '/content/detect/test/3841.jpg', '/content/detect/test/4629.jpg', '/content/detect/test/7554.jpg', '/content/detect/test/4992.jpg', '/content/detect/test/9830.jpg', '/content/detect/test/4961.jpg', '/content/detect/test/8060.jpg', '/content/detect/test/4559.jpg', '/content/detect/test/8171.jpg', '/content/detect/test/6820.jpg', '/content/detect/test/6804.jpg', '/content/detect/test/9402.jpg', '/content/detect/test/5553.jpg', '/content/detect/test/9080.jpg', '/content/detect/test/6245.jpg', '/content/detect/test/6944.jpg', '/content/detect/test/4727.jpg', '/content/detect/test/6259.jpg', '/content/detect/test/9479.jpg', '/content/detect/test/7330.jpg', '/content/detect/test/3839.jpg', '/content/detect/test/7551.jpg', '/content/detect/test/4471.jpg', '/content/detect/test/4147.jpg', '/content/detect/test/8296.jpg', '/content/detect/test/3429.jpg', '/content/detect/test/5845.jpg', '/content/detect/test/8106.jpg', '/content/detect/test/7303.jpg', '/content/detect/test/3115.jpg', '/content/detect/test/7712.jpg', '/content/detect/test/5882.jpg', '/content/detect/test/3813.jpg', '/content/detect/test/9318.jpg', '/content/detect/test/4171.jpg', '/content/detect/test/7511.jpg', '/content/detect/test/6378.jpg', '/content/detect/test/3319.jpg', '/content/detect/test/6158.jpg', '/content/detect/test/4123.jpg', '/content/detect/test/6978.jpg', '/content/detect/test/6007.jpg', '/content/detect/test/3948.jpg', '/content/detect/test/3870.jpg', '/content/detect/test/5805.jpg', '/content/detect/test/5866.jpg', '/content/detect/test/8181.jpg', '/content/detect/test/8239.jpg', '/content/detect/test/4523.jpg', '/content/detect/test/9740.jpg', '/content/detect/test/4254.jpg', '/content/detect/test/9763.jpg', '/content/detect/test/8429.jpg', '/content/detect/test/6583.jpg', '/content/detect/test/6026.jpg', '/content/detect/test/3936.jpg', '/content/detect/test/6512.jpg', '/content/detect/test/4006.jpg', '/content/detect/test/4068.jpg', '/content/detect/test/5447.jpg', '/content/detect/test/5170.jpg', '/content/detect/test/7243.jpg', '/content/detect/test/6547.jpg', '/content/detect/test/8301.jpg', '/content/detect/test/3567.jpg', '/content/detect/test/6621.jpg', '/content/detect/test/5581.jpg', '/content/detect/test/6159.jpg', '/content/detect/test/8686.jpg', '/content/detect/test/6707.jpg', '/content/detect/test/6289.jpg', '/content/detect/test/5673.jpg', '/content/detect/test/5010.jpg', '/content/detect/test/8984.jpg', '/content/detect/test/3553.jpg', '/content/detect/test/4858.jpg', '/content/detect/test/4656.jpg', '/content/detect/test/5024.jpg', '/content/detect/test/3481.jpg', '/content/detect/test/6021.jpg', '/content/detect/test/4731.jpg', '/content/detect/test/5889.jpg', '/content/detect/test/7406.jpg', '/content/detect/test/7129.jpg', '/content/detect/test/4736.jpg', '/content/detect/test/7827.jpg', '/content/detect/test/8785.jpg', '/content/detect/test/7304.jpg', '/content/detect/test/4563.jpg', '/content/detect/test/3498.jpg', '/content/detect/test/9082.jpg', '/content/detect/test/3919.jpg', '/content/detect/test/8691.jpg', '/content/detect/test/9069.jpg', '/content/detect/test/8497.jpg', '/content/detect/test/7661.jpg', '/content/detect/test/6414.jpg', '/content/detect/test/6331.jpg', '/content/detect/test/5769.jpg', '/content/detect/test/5279.jpg', '/content/detect/test/9001.jpg', '/content/detect/test/9275.jpg', '/content/detect/test/7539.jpg', '/content/detect/test/4778.jpg', '/content/detect/test/3148.jpg', '/content/detect/test/9148.jpg', '/content/detect/test/4693.jpg', '/content/detect/test/7485.jpg', '/content/detect/test/7578.jpg', '/content/detect/test/8206.jpg', '/content/detect/test/7904.jpg', '/content/detect/test/6252.jpg', '/content/detect/test/8339.jpg', '/content/detect/test/6230.jpg', '/content/detect/test/8255.jpg', '/content/detect/test/3298.jpg', '/content/detect/test/4900.jpg', '/content/detect/test/9070.jpg', '/content/detect/test/6440.jpg', '/content/detect/test/3999.jpg', '/content/detect/test/6875.jpg', '/content/detect/test/8804.jpg', '/content/detect/test/5567.jpg', '/content/detect/test/9676.jpg', '/content/detect/test/9155.jpg', '/content/detect/test/8299.jpg', '/content/detect/test/5293.jpg', '/content/detect/test/3607.jpg', '/content/detect/test/7681.jpg', '/content/detect/test/9202.jpg', '/content/detect/test/5143.jpg', '/content/detect/test/4333.jpg', '/content/detect/test/7898.jpg', '/content/detect/test/5695.jpg', '/content/detect/test/9300.jpg', '/content/detect/test/3829.jpg', '/content/detect/test/6107.jpg', '/content/detect/test/4267.jpg', '/content/detect/test/3283.jpg', '/content/detect/test/8501.jpg', '/content/detect/test/5619.jpg', '/content/detect/test/3414.jpg', '/content/detect/test/3868.jpg', '/content/detect/test/9373.jpg', '/content/detect/test/6750.jpg', '/content/detect/test/3038.jpg', '/content/detect/test/6317.jpg', '/content/detect/test/3491.jpg', '/content/detect/test/6889.jpg', '/content/detect/test/9878.jpg', '/content/detect/test/7466.jpg', '/content/detect/test/4012.jpg', '/content/detect/test/5886.jpg', '/content/detect/test/5322.jpg', '/content/detect/test/4310.jpg', '/content/detect/test/4857.jpg', '/content/detect/test/9204.jpg', '/content/detect/test/3244.jpg', '/content/detect/test/4509.jpg', '/content/detect/test/8427.jpg', '/content/detect/test/3428.jpg', '/content/detect/test/4355.jpg', '/content/detect/test/4572.jpg', '/content/detect/test/7104.jpg', '/content/detect/test/8000.jpg', '/content/detect/test/8588.jpg', '/content/detect/test/9726.jpg', '/content/detect/test/3358.jpg', '/content/detect/test/5848.jpg', '/content/detect/test/6995.jpg', '/content/detect/test/8822.jpg', '/content/detect/test/8076.jpg', '/content/detect/test/7800.jpg', '/content/detect/test/8894.jpg', '/content/detect/test/3801.jpg', '/content/detect/test/3734.jpg', '/content/detect/test/6906.jpg', '/content/detect/test/3760.jpg', '/content/detect/test/4908.jpg', '/content/detect/test/7919.jpg', '/content/detect/test/9218.jpg', '/content/detect/test/3747.jpg', '/content/detect/test/7186.jpg', '/content/detect/test/7819.jpg', '/content/detect/test/4466.jpg', '/content/detect/test/9280.jpg', '/content/detect/test/7710.jpg', '/content/detect/test/4960.jpg', '/content/detect/test/3943.jpg', '/content/detect/test/9160.jpg', '/content/detect/test/7510.jpg', '/content/detect/test/9419.jpg', '/content/detect/test/5970.jpg', '/content/detect/test/3821.jpg', '/content/detect/test/4033.jpg', '/content/detect/test/5478.jpg', '/content/detect/test/9754.jpg', '/content/detect/test/4784.jpg', '/content/detect/test/7103.jpg', '/content/detect/test/9439.jpg', '/content/detect/test/7748.jpg', '/content/detect/test/6048.jpg', '/content/detect/test/4136.jpg', '/content/detect/test/6922.jpg', '/content/detect/test/3410.jpg', '/content/detect/test/7952.jpg', '/content/detect/test/5347.jpg', '/content/detect/test/9688.jpg', '/content/detect/test/8731.jpg', '/content/detect/test/8955.jpg', '/content/detect/test/5821.jpg', '/content/detect/test/6725.jpg', '/content/detect/test/8228.jpg', '/content/detect/test/4872.jpg', '/content/detect/test/7589.jpg', '/content/detect/test/4786.jpg', '/content/detect/test/8990.jpg', '/content/detect/test/4869.jpg', '/content/detect/test/3741.jpg', '/content/detect/test/6089.jpg', '/content/detect/test/7875.jpg', '/content/detect/test/4089.jpg', '/content/detect/test/8646.jpg', '/content/detect/test/3175.jpg', '/content/detect/test/3108.jpg', '/content/detect/test/7863.jpg', '/content/detect/test/3928.jpg', '/content/detect/test/9423.jpg', '/content/detect/test/7283.jpg', '/content/detect/test/5431.jpg', '/content/detect/test/9861.jpg', '/content/detect/test/8326.jpg', '/content/detect/test/5154.jpg', '/content/detect/test/4780.jpg', '/content/detect/test/3626.jpg', '/content/detect/test/4827.jpg', '/content/detect/test/6753.jpg', '/content/detect/test/6412.jpg', '/content/detect/test/5261.jpg', '/content/detect/test/4183.jpg', '/content/detect/test/8788.jpg', '/content/detect/test/9681.jpg', '/content/detect/test/7933.jpg', '/content/detect/test/8598.jpg', '/content/detect/test/9517.jpg', '/content/detect/test/8336.jpg', '/content/detect/test/6273.jpg', '/content/detect/test/5540.jpg', '/content/detect/test/5822.jpg', '/content/detect/test/4589.jpg', '/content/detect/test/5307.jpg', '/content/detect/test/6249.jpg', '/content/detect/test/4583.jpg', '/content/detect/test/4733.jpg', '/content/detect/test/9624.jpg', '/content/detect/test/8294.jpg', '/content/detect/test/9752.jpg', '/content/detect/test/9705.jpg', '/content/detect/test/3871.jpg', '/content/detect/test/9013.jpg', '/content/detect/test/6684.jpg', '/content/detect/test/8614.jpg', '/content/detect/test/6934.jpg', '/content/detect/test/9157.jpg', '/content/detect/test/4767.jpg', '/content/detect/test/3323.jpg', '/content/detect/test/8730.jpg', '/content/detect/test/4949.jpg', '/content/detect/test/3301.jpg', '/content/detect/test/9836.jpg', '/content/detect/test/4791.jpg', '/content/detect/test/7244.jpg', '/content/detect/test/8986.jpg', '/content/detect/test/5926.jpg', '/content/detect/test/6575.jpg', '/content/detect/test/7483.jpg', '/content/detect/test/6454.jpg', '/content/detect/test/3147.jpg', '/content/detect/test/7051.jpg', '/content/detect/test/6947.jpg', '/content/detect/test/3369.jpg', '/content/detect/test/6935.jpg', '/content/detect/test/4584.jpg', '/content/detect/test/9809.jpg', '/content/detect/test/3200.jpg', '/content/detect/test/8042.jpg', '/content/detect/test/6484.jpg', '/content/detect/test/8729.jpg', '/content/detect/test/8511.jpg', '/content/detect/test/7297.jpg', '/content/detect/test/3900.jpg', '/content/detect/test/4640.jpg', '/content/detect/test/8461.jpg', '/content/detect/test/8584.jpg', '/content/detect/test/5850.jpg', '/content/detect/test/9760.jpg', '/content/detect/test/6977.jpg', '/content/detect/test/9379.jpg', '/content/detect/test/4446.jpg', '/content/detect/test/5834.jpg', '/content/detect/test/9523.jpg', '/content/detect/test/9796.jpg', '/content/detect/test/8289.jpg', '/content/detect/test/3833.jpg', '/content/detect/test/4121.jpg', '/content/detect/test/6465.jpg', '/content/detect/test/8960.jpg', '/content/detect/test/8838.jpg', '/content/detect/test/7963.jpg', '/content/detect/test/9294.jpg', '/content/detect/test/3192.jpg', '/content/detect/test/6426.jpg', '/content/detect/test/4554.jpg', '/content/detect/test/8378.jpg', '/content/detect/test/6400.jpg', '/content/detect/test/3844.jpg', '/content/detect/test/4831.jpg', '/content/detect/test/3060.jpg', '/content/detect/test/9833.jpg', '/content/detect/test/7365.jpg', '/content/detect/test/3423.jpg', '/content/detect/test/6266.jpg', '/content/detect/test/5747.jpg', '/content/detect/test/8246.jpg', '/content/detect/test/6682.jpg', '/content/detect/test/4184.jpg', '/content/detect/test/8311.jpg', '/content/detect/test/6706.jpg', '/content/detect/test/3433.jpg', '/content/detect/test/3017.jpg', '/content/detect/test/5734.jpg', '/content/detect/test/5404.jpg', '/content/detect/test/7890.jpg', '/content/detect/test/5369.jpg', '/content/detect/test/5401.jpg', '/content/detect/test/8023.jpg', '/content/detect/test/5647.jpg', '/content/detect/test/9363.jpg', '/content/detect/test/5525.jpg', '/content/detect/test/8093.jpg', '/content/detect/test/9708.jpg', '/content/detect/test/8325.jpg', '/content/detect/test/7378.jpg', '/content/detect/test/8032.jpg', '/content/detect/test/3039.jpg', '/content/detect/test/8359.jpg', '/content/detect/test/4905.jpg', '/content/detect/test/8201.jpg', '/content/detect/test/7563.jpg', '/content/detect/test/5819.jpg', '/content/detect/test/5999.jpg', '/content/detect/test/4980.jpg', '/content/detect/test/4118.jpg', '/content/detect/test/5436.jpg', '/content/detect/test/7514.jpg', '/content/detect/test/9180.jpg', '/content/detect/test/3564.jpg', '/content/detect/test/3426.jpg', '/content/detect/test/4151.jpg', '/content/detect/test/8404.jpg', '/content/detect/test/9184.jpg', '/content/detect/test/8383.jpg', '/content/detect/test/9408.jpg', '/content/detect/test/4941.jpg', '/content/detect/test/4000.jpg', '/content/detect/test/9786.jpg', '/content/detect/test/8291.jpg', '/content/detect/test/7310.jpg', '/content/detect/test/6636.jpg', '/content/detect/test/9627.jpg', '/content/detect/test/6302.jpg', '/content/detect/test/7595.jpg', '/content/detect/test/3255.jpg', '/content/detect/test/8662.jpg', '/content/detect/test/6139.jpg', '/content/detect/test/3899.jpg', '/content/detect/test/9471.jpg', '/content/detect/test/8514.jpg', '/content/detect/test/5479.jpg', '/content/detect/test/3991.jpg', '/content/detect/test/7588.jpg', '/content/detect/test/4390.jpg', '/content/detect/test/6781.jpg', '/content/detect/test/6208.jpg', '/content/detect/test/9843.jpg', '/content/detect/test/4635.jpg', '/content/detect/test/5280.jpg', '/content/detect/test/3249.jpg', '/content/detect/test/8067.jpg', '/content/detect/test/7366.jpg', '/content/detect/test/7469.jpg', '/content/detect/test/8351.jpg', '/content/detect/test/6677.jpg', '/content/detect/test/9365.jpg', '/content/detect/test/4625.jpg', '/content/detect/test/8494.jpg', '/content/detect/test/4043.jpg', '/content/detect/test/4167.jpg', '/content/detect/test/8647.jpg', '/content/detect/test/4722.jpg', '/content/detect/test/8844.jpg', '/content/detect/test/7236.jpg', '/content/detect/test/5905.jpg', '/content/detect/test/3946.jpg', '/content/detect/test/6153.jpg', '/content/detect/test/4644.jpg', '/content/detect/test/3822.jpg', '/content/detect/test/9315.jpg', '/content/detect/test/9060.jpg', '/content/detect/test/8929.jpg', '/content/detect/test/7726.jpg', '/content/detect/test/8340.jpg', '/content/detect/test/7193.jpg', '/content/detect/test/6031.jpg', '/content/detect/test/9329.jpg', '/content/detect/test/3055.jpg', '/content/detect/test/7498.jpg', '/content/detect/test/7306.jpg', '/content/detect/test/3593.jpg', '/content/detect/test/9295.jpg', '/content/detect/test/7300.jpg', '/content/detect/test/8097.jpg', '/content/detect/test/6267.jpg', '/content/detect/test/7288.jpg', '/content/detect/test/6441.jpg', '/content/detect/test/7761.jpg', '/content/detect/test/5902.jpg', '/content/detect/test/6060.jpg', '/content/detect/test/7534.jpg', '/content/detect/test/4427.jpg', '/content/detect/test/7789.jpg', '/content/detect/test/7003.jpg', '/content/detect/test/3614.jpg', '/content/detect/test/4663.jpg', '/content/detect/test/6363.jpg', '/content/detect/test/7157.jpg', '/content/detect/test/8113.jpg', '/content/detect/test/8600.jpg', '/content/detect/test/7705.jpg', '/content/detect/test/4706.jpg', '/content/detect/test/3165.jpg', '/content/detect/test/6150.jpg', '/content/detect/test/3791.jpg', '/content/detect/test/8038.jpg', '/content/detect/test/3949.jpg', '/content/detect/test/3307.jpg', '/content/detect/test/6401.jpg', '/content/detect/test/6962.jpg', '/content/detect/test/9852.jpg', '/content/detect/test/4798.jpg', '/content/detect/test/6655.jpg', '/content/detect/test/5974.jpg', '/content/detect/test/9831.jpg', '/content/detect/test/3524.jpg', '/content/detect/test/5289.jpg', '/content/detect/test/8349.jpg', '/content/detect/test/5928.jpg', '/content/detect/test/9753.jpg', '/content/detect/test/4735.jpg', '/content/detect/test/6038.jpg', '/content/detect/test/9045.jpg', '/content/detect/test/6617.jpg', '/content/detect/test/3735.jpg', '/content/detect/test/5197.jpg', '/content/detect/test/4754.jpg', '/content/detect/test/8493.jpg', '/content/detect/test/9286.jpg', '/content/detect/test/7215.jpg', '/content/detect/test/7870.jpg', '/content/detect/test/4501.jpg', '/content/detect/test/7842.jpg', '/content/detect/test/4298.jpg', '/content/detect/test/3732.jpg', '/content/detect/test/6811.jpg', '/content/detect/test/6005.jpg', '/content/detect/test/6052.jpg', '/content/detect/test/6019.jpg', '/content/detect/test/6467.jpg', '/content/detect/test/3826.jpg', '/content/detect/test/6773.jpg', '/content/detect/test/6501.jpg', '/content/detect/test/7792.jpg', '/content/detect/test/4253.jpg', '/content/detect/test/9485.jpg', '/content/detect/test/3133.jpg', '/content/detect/test/3093.jpg', '/content/detect/test/3885.jpg', '/content/detect/test/5364.jpg', '/content/detect/test/3457.jpg', '/content/detect/test/5228.jpg', '/content/detect/test/7891.jpg', '/content/detect/test/4839.jpg', '/content/detect/test/6949.jpg', '/content/detect/test/3577.jpg', '/content/detect/test/8589.jpg', '/content/detect/test/8972.jpg', '/content/detect/test/3317.jpg', '/content/detect/test/8817.jpg', '/content/detect/test/9021.jpg', '/content/detect/test/7764.jpg', '/content/detect/test/4157.jpg', '/content/detect/test/7169.jpg', '/content/detect/test/7092.jpg', '/content/detect/test/4910.jpg', '/content/detect/test/8164.jpg', '/content/detect/test/5802.jpg', '/content/detect/test/7678.jpg', '/content/detect/test/9742.jpg', '/content/detect/test/3627.jpg', '/content/detect/test/8672.jpg', '/content/detect/test/9732.jpg', '/content/detect/test/9335.jpg', '/content/detect/test/4112.jpg', '/content/detect/test/6438.jpg', '/content/detect/test/3746.jpg', '/content/detect/test/3124.jpg', '/content/detect/test/9442.jpg', '/content/detect/test/8348.jpg', '/content/detect/test/8562.jpg', '/content/detect/test/5888.jpg', '/content/detect/test/7314.jpg', '/content/detect/test/8137.jpg', '/content/detect/test/6938.jpg', '/content/detect/test/3940.jpg', '/content/detect/test/7735.jpg', '/content/detect/test/6305.jpg', '/content/detect/test/9534.jpg', '/content/detect/test/8992.jpg', '/content/detect/test/9023.jpg', '/content/detect/test/9608.jpg', '/content/detect/test/5872.jpg', '/content/detect/test/3051.jpg', '/content/detect/test/4952.jpg', '/content/detect/test/9352.jpg', '/content/detect/test/6801.jpg', '/content/detect/test/6774.jpg', '/content/detect/test/6403.jpg', '/content/detect/test/4348.jpg', '/content/detect/test/6843.jpg', '/content/detect/test/8625.jpg', '/content/detect/test/9348.jpg', '/content/detect/test/3922.jpg', '/content/detect/test/6342.jpg', '/content/detect/test/8704.jpg', '/content/detect/test/4605.jpg', '/content/detect/test/9338.jpg', '/content/detect/test/3613.jpg', '/content/detect/test/7780.jpg', '/content/detect/test/7438.jpg', '/content/detect/test/6777.jpg', '/content/detect/test/5870.jpg', '/content/detect/test/5929.jpg', '/content/detect/test/9717.jpg', '/content/detect/test/9826.jpg', '/content/detect/test/7245.jpg', '/content/detect/test/9431.jpg', '/content/detect/test/7500.jpg', '/content/detect/test/9288.jpg', '/content/detect/test/6959.jpg', '/content/detect/test/4849.jpg', '/content/detect/test/6510.jpg', '/content/detect/test/9466.jpg', '/content/detect/test/9876.jpg']\n"
          ]
        }
      ]
    },
    {
      "cell_type": "markdown",
      "source": [
        "##**Making predictions from the model**"
      ],
      "metadata": {
        "id": "xaSt7mjVmFIw"
      }
    },
    {
      "cell_type": "code",
      "source": [
        "from keras.preprocessing.image import load_img\n",
        "from keras.preprocessing.image import img_to_array\n",
        "from keras.applications.vgg16 import preprocess_input\n",
        "from keras.applications.vgg16 import decode_predictions\n",
        "import pandas as pd\n",
        "\n",
        "df = pd.DataFrame(columns = ['imageId', 'predictions'])\n",
        "obj_dict = {}\n",
        "for img in file_names:\n",
        "  img_name = img.split(\"/\")[-1]\n",
        "\n",
        "  # Load the image\n",
        "  image = load_img(img, target_size=(224, 224))\n",
        "\n",
        "  # convert image to numpy array\n",
        "  image = img_to_array(image)\n",
        "\n",
        "  # reshape the model from 3d to 4d by adding an extra dimension\n",
        "  # because vgg19 model requires 4-dimensional inputs\n",
        "  image = image.reshape((1, image.shape[0], image.shape[1], image.shape[2]))\n",
        "\n",
        "  # Preprocessing the image data\n",
        "  image = preprocess_input(image)\n",
        "\n",
        "  # making predictions\n",
        "  pred = model.predict(image)\n",
        "\n",
        "  #decode into normal format\n",
        "  label = decode_predictions(pred)\n",
        "  label = label[0][0]\n",
        "  df = df.append({'imageId': img_name, 'predictions': [label[1], '(%.2f%%)'%(label[2]*100)]}, ignore_index = True)"
      ],
      "metadata": {
        "id": "1VHrEnms0ZIw",
        "colab": {
          "base_uri": "https://localhost:8080/"
        },
        "outputId": "4bd80d0b-b0e7-426d-ade4-a09c48bf6b9f"
      },
      "execution_count": 7,
      "outputs": [
        {
          "output_type": "stream",
          "name": "stdout",
          "text": [
            "Downloading data from https://storage.googleapis.com/download.tensorflow.org/data/imagenet_class_index.json\n",
            "40960/35363 [==================================] - 0s 0us/step\n",
            "49152/35363 [=========================================] - 0s 0us/step\n"
          ]
        }
      ]
    },
    {
      "cell_type": "code",
      "source": [
        "df"
      ],
      "metadata": {
        "colab": {
          "base_uri": "https://localhost:8080/",
          "height": 424
        },
        "id": "bsbRyTEk0ZGp",
        "outputId": "978a945c-912d-4f1f-9b20-f2e5cf082c10"
      },
      "execution_count": 8,
      "outputs": [
        {
          "output_type": "execute_result",
          "data": {
            "text/html": [
              "\n",
              "  <div id=\"df-1526b6d9-f3b5-437c-9ac8-8a7ef591a327\">\n",
              "    <div class=\"colab-df-container\">\n",
              "      <div>\n",
              "<style scoped>\n",
              "    .dataframe tbody tr th:only-of-type {\n",
              "        vertical-align: middle;\n",
              "    }\n",
              "\n",
              "    .dataframe tbody tr th {\n",
              "        vertical-align: top;\n",
              "    }\n",
              "\n",
              "    .dataframe thead th {\n",
              "        text-align: right;\n",
              "    }\n",
              "</style>\n",
              "<table border=\"1\" class=\"dataframe\">\n",
              "  <thead>\n",
              "    <tr style=\"text-align: right;\">\n",
              "      <th></th>\n",
              "      <th>imageId</th>\n",
              "      <th>predictions</th>\n",
              "    </tr>\n",
              "  </thead>\n",
              "  <tbody>\n",
              "    <tr>\n",
              "      <th>0</th>\n",
              "      <td>4743.jpg</td>\n",
              "      <td>[military_uniform, (41.39%)]</td>\n",
              "    </tr>\n",
              "    <tr>\n",
              "      <th>1</th>\n",
              "      <td>3670.jpg</td>\n",
              "      <td>[stole, (67.28%)]</td>\n",
              "    </tr>\n",
              "    <tr>\n",
              "      <th>2</th>\n",
              "      <td>8499.jpg</td>\n",
              "      <td>[poncho, (46.32%)]</td>\n",
              "    </tr>\n",
              "    <tr>\n",
              "      <th>3</th>\n",
              "      <td>7932.jpg</td>\n",
              "      <td>[sarong, (98.78%)]</td>\n",
              "    </tr>\n",
              "    <tr>\n",
              "      <th>4</th>\n",
              "      <td>7637.jpg</td>\n",
              "      <td>[swimming_trunks, (51.34%)]</td>\n",
              "    </tr>\n",
              "    <tr>\n",
              "      <th>...</th>\n",
              "      <td>...</td>\n",
              "      <td>...</td>\n",
              "    </tr>\n",
              "    <tr>\n",
              "      <th>995</th>\n",
              "      <td>6959.jpg</td>\n",
              "      <td>[maillot, (53.15%)]</td>\n",
              "    </tr>\n",
              "    <tr>\n",
              "      <th>996</th>\n",
              "      <td>4849.jpg</td>\n",
              "      <td>[gown, (74.66%)]</td>\n",
              "    </tr>\n",
              "    <tr>\n",
              "      <th>997</th>\n",
              "      <td>6510.jpg</td>\n",
              "      <td>[maillot, (18.88%)]</td>\n",
              "    </tr>\n",
              "    <tr>\n",
              "      <th>998</th>\n",
              "      <td>9466.jpg</td>\n",
              "      <td>[velvet, (19.11%)]</td>\n",
              "    </tr>\n",
              "    <tr>\n",
              "      <th>999</th>\n",
              "      <td>9876.jpg</td>\n",
              "      <td>[miniskirt, (52.15%)]</td>\n",
              "    </tr>\n",
              "  </tbody>\n",
              "</table>\n",
              "<p>1000 rows × 2 columns</p>\n",
              "</div>\n",
              "      <button class=\"colab-df-convert\" onclick=\"convertToInteractive('df-1526b6d9-f3b5-437c-9ac8-8a7ef591a327')\"\n",
              "              title=\"Convert this dataframe to an interactive table.\"\n",
              "              style=\"display:none;\">\n",
              "        \n",
              "  <svg xmlns=\"http://www.w3.org/2000/svg\" height=\"24px\"viewBox=\"0 0 24 24\"\n",
              "       width=\"24px\">\n",
              "    <path d=\"M0 0h24v24H0V0z\" fill=\"none\"/>\n",
              "    <path d=\"M18.56 5.44l.94 2.06.94-2.06 2.06-.94-2.06-.94-.94-2.06-.94 2.06-2.06.94zm-11 1L8.5 8.5l.94-2.06 2.06-.94-2.06-.94L8.5 2.5l-.94 2.06-2.06.94zm10 10l.94 2.06.94-2.06 2.06-.94-2.06-.94-.94-2.06-.94 2.06-2.06.94z\"/><path d=\"M17.41 7.96l-1.37-1.37c-.4-.4-.92-.59-1.43-.59-.52 0-1.04.2-1.43.59L10.3 9.45l-7.72 7.72c-.78.78-.78 2.05 0 2.83L4 21.41c.39.39.9.59 1.41.59.51 0 1.02-.2 1.41-.59l7.78-7.78 2.81-2.81c.8-.78.8-2.07 0-2.86zM5.41 20L4 18.59l7.72-7.72 1.47 1.35L5.41 20z\"/>\n",
              "  </svg>\n",
              "      </button>\n",
              "      \n",
              "  <style>\n",
              "    .colab-df-container {\n",
              "      display:flex;\n",
              "      flex-wrap:wrap;\n",
              "      gap: 12px;\n",
              "    }\n",
              "\n",
              "    .colab-df-convert {\n",
              "      background-color: #E8F0FE;\n",
              "      border: none;\n",
              "      border-radius: 50%;\n",
              "      cursor: pointer;\n",
              "      display: none;\n",
              "      fill: #1967D2;\n",
              "      height: 32px;\n",
              "      padding: 0 0 0 0;\n",
              "      width: 32px;\n",
              "    }\n",
              "\n",
              "    .colab-df-convert:hover {\n",
              "      background-color: #E2EBFA;\n",
              "      box-shadow: 0px 1px 2px rgba(60, 64, 67, 0.3), 0px 1px 3px 1px rgba(60, 64, 67, 0.15);\n",
              "      fill: #174EA6;\n",
              "    }\n",
              "\n",
              "    [theme=dark] .colab-df-convert {\n",
              "      background-color: #3B4455;\n",
              "      fill: #D2E3FC;\n",
              "    }\n",
              "\n",
              "    [theme=dark] .colab-df-convert:hover {\n",
              "      background-color: #434B5C;\n",
              "      box-shadow: 0px 1px 3px 1px rgba(0, 0, 0, 0.15);\n",
              "      filter: drop-shadow(0px 1px 2px rgba(0, 0, 0, 0.3));\n",
              "      fill: #FFFFFF;\n",
              "    }\n",
              "  </style>\n",
              "\n",
              "      <script>\n",
              "        const buttonEl =\n",
              "          document.querySelector('#df-1526b6d9-f3b5-437c-9ac8-8a7ef591a327 button.colab-df-convert');\n",
              "        buttonEl.style.display =\n",
              "          google.colab.kernel.accessAllowed ? 'block' : 'none';\n",
              "\n",
              "        async function convertToInteractive(key) {\n",
              "          const element = document.querySelector('#df-1526b6d9-f3b5-437c-9ac8-8a7ef591a327');\n",
              "          const dataTable =\n",
              "            await google.colab.kernel.invokeFunction('convertToInteractive',\n",
              "                                                     [key], {});\n",
              "          if (!dataTable) return;\n",
              "\n",
              "          const docLinkHtml = 'Like what you see? Visit the ' +\n",
              "            '<a target=\"_blank\" href=https://colab.research.google.com/notebooks/data_table.ipynb>data table notebook</a>'\n",
              "            + ' to learn more about interactive tables.';\n",
              "          element.innerHTML = '';\n",
              "          dataTable['output_type'] = 'display_data';\n",
              "          await google.colab.output.renderOutput(dataTable, element);\n",
              "          const docLink = document.createElement('div');\n",
              "          docLink.innerHTML = docLinkHtml;\n",
              "          element.appendChild(docLink);\n",
              "        }\n",
              "      </script>\n",
              "    </div>\n",
              "  </div>\n",
              "  "
            ],
            "text/plain": [
              "      imageId                   predictions\n",
              "0    4743.jpg  [military_uniform, (41.39%)]\n",
              "1    3670.jpg             [stole, (67.28%)]\n",
              "2    8499.jpg            [poncho, (46.32%)]\n",
              "3    7932.jpg            [sarong, (98.78%)]\n",
              "4    7637.jpg   [swimming_trunks, (51.34%)]\n",
              "..        ...                           ...\n",
              "995  6959.jpg           [maillot, (53.15%)]\n",
              "996  4849.jpg              [gown, (74.66%)]\n",
              "997  6510.jpg           [maillot, (18.88%)]\n",
              "998  9466.jpg            [velvet, (19.11%)]\n",
              "999  9876.jpg         [miniskirt, (52.15%)]\n",
              "\n",
              "[1000 rows x 2 columns]"
            ]
          },
          "metadata": {},
          "execution_count": 8
        }
      ]
    },
    {
      "cell_type": "code",
      "source": [
        "#saving the predictions to csv file\n",
        "df.to_csv('/content/drive/MyDrive/detections.csv', index = False)"
      ],
      "metadata": {
        "id": "WpIiciTl0ZEb"
      },
      "execution_count": 9,
      "outputs": []
    }
  ]
}